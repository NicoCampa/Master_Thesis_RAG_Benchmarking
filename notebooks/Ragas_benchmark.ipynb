{
 "cells": [
  {
   "cell_type": "code",
   "execution_count": 1,
   "metadata": {},
   "outputs": [],
   "source": [
    "from langchain.document_loaders import TextLoader\n",
    "from langchain.text_splitter import RecursiveCharacterTextSplitter\n",
    "import os\n",
    "os.environ[\"OPENAI_API_KEY\"] = \"\"\n",
    "\n",
    "loader = TextLoader(\"./data/Ragas/testContext.txt\")\n",
    "docs = loader.load()\n",
    "\n",
    "text_splitter = RecursiveCharacterTextSplitter(\n",
    "    chunk_size=350,\n",
    "    chunk_overlap=20,\n",
    "    length_function=len,\n",
    "    is_separator_regex=False,\n",
    ")\n",
    "chunks = text_splitter.split_documents(docs)\n",
    "\n",
    "#imports necessary libraries, sets the OpenAI API key securely, loads a text document, and splits it into smaller chunks for further processing"
   ]
  },
  {
   "cell_type": "code",
   "execution_count": 2,
   "metadata": {},
   "outputs": [
    {
     "data": {
      "text/plain": [
       "Document(metadata={'source': './data/Ragas/testContext.txt'}, page_content='NeoSynth Solutions is a global leader in developing advanced AI-driven solutions aimed at creating sustainable and innovative technologies for urban environments. The company operates through three main divisions:\\n\\t1.\\tAI Ethics and Autonomous Systems:')"
      ]
     },
     "execution_count": 2,
     "metadata": {},
     "output_type": "execute_result"
    }
   ],
   "source": [
    "chunks[0]\n",
    "\n",
    "#see first chunck"
   ]
  },
  {
   "cell_type": "code",
   "execution_count": 3,
   "metadata": {},
   "outputs": [],
   "source": [
    "for document in chunks:\n",
    "    document.metadata[\"file_name\"] = document.metadata[\"source\"]\n",
    "\n",
    "#RAGAS expects a file_name dict as key (needed to work)"
   ]
  },
  {
   "cell_type": "code",
   "execution_count": 4,
   "metadata": {},
   "outputs": [],
   "source": [
    "#from ragas.testset import TestsetGenerator\n",
    "#from ragas.llms import LangchainLLMWrapper\n",
    "#from ragas.embeddings import LangchainEmbeddingsWrapper\n",
    "#from langchain.embeddings import OllamaEmbeddings\n",
    "#from langchain_openai import ChatOpenAI\n",
    "\n",
    "#generator_llm = LangchainLLMWrapper(ChatOpenAI(model=\"gpt-4o-mini\"))\n",
    "#generator_embeddings = LangchainEmbeddingsWrapper(OllamaEmbeddings(model=\"nomic-embed-text\"))\n",
    "#generator = TestsetGenerator(llm=generator_llm, embedding_model=generator_embeddings)\n",
    "#dataset = generator.generate_with_langchain_docs(docs, testset_size=10)\n",
    "\n",
    "#sets up the language model and embeddings wrappers, initializes the test set generator, and generates a test dataset from the loaded document chunks\n",
    "#this is to create artificial questions from the context to test it"
   ]
  },
  {
   "cell_type": "code",
   "execution_count": 5,
   "metadata": {},
   "outputs": [],
   "source": [
    "#dataset.to_pandas()\n",
    "#see artificial questions"
   ]
  },
  {
   "cell_type": "code",
   "execution_count": 6,
   "metadata": {},
   "outputs": [
    {
     "name": "stderr",
     "output_type": "stream",
     "text": [
      "/var/folders/t5/c04zc7dn6g5bd523j9fhp2040000gn/T/ipykernel_34124/1172113931.py:8: LangChainDeprecationWarning: The class `OllamaEmbeddings` was deprecated in LangChain 0.3.1 and will be removed in 1.0.0. An updated version of the class exists in the :class:`~langchain-ollama package and should be used instead. To use it run `pip install -U :class:`~langchain-ollama` and import as `from :class:`~langchain_ollama import OllamaEmbeddings``.\n",
      "  embedding = OllamaEmbeddings(model=\"nomic-embed-text\")\n"
     ]
    }
   ],
   "source": [
    "from langchain_community.vectorstores import Chroma\n",
    "from langchain_openai import ChatOpenAI\n",
    "from langchain_ollama.llms import OllamaLLM\n",
    "from langchain.embeddings import OllamaEmbeddings\n",
    "# Sparse retrieval\n",
    "from langchain.retrievers import BM25Retriever\n",
    "\n",
    "embedding = OllamaEmbeddings(model=\"nomic-embed-text\")\n",
    "model = OllamaLLM(model=\"deepseek-r1:1.5b\")\n",
    "#model = ChatOpenAI(model=\"gpt-4o-mini\")\n",
    "\n",
    "# Dense (Chroma)\n",
    "vectorstore = Chroma.from_documents(chunks, embedding)\n",
    "dense_retriever = vectorstore.as_retriever()\n",
    "\n",
    "# Sparse (BM25)\n",
    "bm25_retriever = BM25Retriever.from_documents(chunks)\n",
    "\n",
    "#imports necessary modules, initializes the embedding and language models, \n",
    "#creates a Chroma vector store from the document chunks using the specified embeddings, \n",
    "#and sets up a retriever to enable efficient querying of the vector store"
   ]
  },
  {
   "cell_type": "code",
   "execution_count": 7,
   "metadata": {},
   "outputs": [],
   "source": [
    "from typing import List, Dict, Any\n",
    "from langchain.schema import Document\n",
    "import numpy as np\n",
    "\n",
    "class CustomHybridRetriever:\n",
    "    def __init__(self, dense_retriever, sparse_retriever, dense_weight: float = 0.5, k: int = 5):\n",
    "        self.dense_retriever = dense_retriever\n",
    "        self.sparse_retriever = sparse_retriever\n",
    "        self.dense_weight = dense_weight\n",
    "        self.sparse_weight = 1 - dense_weight\n",
    "        self.k = k\n",
    "\n",
    "    def get_relevant_documents(self, query: str) -> List[Document]:\n",
    "        # Retrieve documents from both retrievers\n",
    "        dense_docs = self.dense_retriever.get_relevant_documents(query)\n",
    "        sparse_docs = self.sparse_retriever.get_relevant_documents(query)\n",
    "\n",
    "        # Combine scores using a simple linear scoring mechanism\n",
    "        doc_scores = {}\n",
    "        for i, doc in enumerate(dense_docs):\n",
    "            score = 1.0 - (i / len(dense_docs))\n",
    "            doc_scores[doc.page_content] = self.dense_weight * score\n",
    "\n",
    "        for i, doc in enumerate(sparse_docs):\n",
    "            score = 1.0 - (i / len(sparse_docs))\n",
    "            if doc.page_content in doc_scores:\n",
    "                doc_scores[doc.page_content] += self.sparse_weight * score\n",
    "            else:\n",
    "                doc_scores[doc.page_content] = self.sparse_weight * score\n",
    "\n",
    "        # Sort and select top k documents\n",
    "        sorted_docs = sorted(doc_scores.items(), key=lambda x: x[1], reverse=True)\n",
    "        result_docs = []\n",
    "        seen_content = set()\n",
    "        all_docs = dense_docs + sparse_docs\n",
    "        docs_lookup = {doc.page_content: doc for doc in all_docs}\n",
    "        for content, _ in sorted_docs:\n",
    "            if content not in seen_content and len(result_docs) < self.k:\n",
    "                result_docs.append(docs_lookup[content])\n",
    "                seen_content.add(content)\n",
    "        return result_docs\n",
    "\n",
    "    def invoke(self, inputs: Dict[str, Any]) -> Dict[str, Any]:\n",
    "        \"\"\"\n",
    "        Provides an invoke interface for the custom hybrid retriever.\n",
    "        \"\"\"\n",
    "        query = inputs.get(\"query\", \"\")\n",
    "        documents = self.get_relevant_documents(query)\n",
    "        return {\"documents\": documents}\n",
    "\n",
    "# Example usage:\n",
    "hybrid_retriever = CustomHybridRetriever(\n",
    "    dense_retriever=dense_retriever,      # your dense retriever instance\n",
    "    sparse_retriever=bm25_retriever,        # your sparse retriever instance\n",
    "    dense_weight=0.5,  # weight of dense retriever\n",
    "    k=5              # number of results to return\n",
    ")"
   ]
  },
  {
   "cell_type": "code",
   "execution_count": 8,
   "metadata": {},
   "outputs": [],
   "source": [
    "from typing import Dict, Any, List\n",
    "from langchain.schema import Document\n",
    "\n",
    "class RunnableRetriever:\n",
    "    def __init__(self, retriever):\n",
    "        self.retriever = retriever\n",
    "\n",
    "    def invoke(self, inputs: Dict[str, Any]) -> Dict[str, Any]:\n",
    "        \"\"\"\n",
    "        This method wraps the retriever's get_relevant_documents method.\n",
    "        It extracts the query from the input dict and returns a dict with the results.\n",
    "        \"\"\"\n",
    "        query = inputs.get(\"query\", \"\")\n",
    "        documents: List[Document] = self.retriever.get_relevant_documents(query)\n",
    "        return {\"documents\": documents}\n",
    "\n",
    "    def __call__(self, inputs: Dict[str, Any]) -> Dict[str, Any]:\n",
    "        \"\"\"\n",
    "        Allow the instance to be called directly, delegating to invoke.\n",
    "        \"\"\"\n",
    "        return self.invoke(inputs)"
   ]
  },
  {
   "cell_type": "code",
   "execution_count": 9,
   "metadata": {},
   "outputs": [],
   "source": [
    "# Assuming dense_retriever and bm25_retriever are already defined and implement get_relevant_documents\n",
    "\n",
    "# Wrap the existing retrievers so they are callable:\n",
    "runnable_dense = RunnableRetriever(dense_retriever)\n",
    "runnable_sparse = RunnableRetriever(bm25_retriever)\n",
    "\n",
    "# Wrap your custom hybrid retriever\n",
    "runnable_hybrid = RunnableRetriever(\n",
    "    CustomHybridRetriever(\n",
    "        dense_retriever=dense_retriever,\n",
    "        sparse_retriever=bm25_retriever,\n",
    "        dense_weight=0.5,\n",
    "        k=5\n",
    "    )\n",
    ")"
   ]
  },
  {
   "cell_type": "code",
   "execution_count": 10,
   "metadata": {},
   "outputs": [],
   "source": [
    "# Dictionary mapping strategy names to runnable retrievers\n",
    "retriever = {\n",
    "    \"dense\": runnable_dense,\n",
    "    \"sparse\": runnable_sparse,\n",
    "    \"hybrid\": runnable_hybrid,\n",
    "}"
   ]
  },
  {
   "cell_type": "code",
   "execution_count": 11,
   "metadata": {},
   "outputs": [],
   "source": [
    "from langchain_core.prompts import PromptTemplate\n",
    "\n",
    "template = \"\"\"Answer the question based only on the following context:\n",
    "{context}\n",
    "\n",
    "Question: {question}\n",
    "\"\"\"\n",
    "\n",
    "prompt = PromptTemplate(template=template, input_variables=[\"context\", \"question\"])\n",
    "\n",
    "#imports the PromptTemplate class, defines a template that instructs the language model to answer questions based \n",
    "#only on the provided context, and initializes a PromptTemplate instance with specified input variables for “context” and “question”"
   ]
  },
  {
   "cell_type": "code",
   "execution_count": 12,
   "metadata": {},
   "outputs": [],
   "source": [
    "from langchain.schema.runnable import RunnablePassthrough\n",
    "from langchain.schema.output_parser import StrOutputParser\n",
    "\n",
    "def rag_chain(strategy=\"dense\"):\n",
    "    \"\"\"\n",
    "    Return a chain that uses either 'dense', 'sparse', or 'hybrid'\n",
    "    depending on the argument.\n",
    "    \"\"\"\n",
    "\n",
    "    # Fallback to dense if unknown strategy\n",
    "    selected_retriever = retriever.get(strategy, dense_retriever)\n",
    "\n",
    "    rag_chain = (\n",
    "        {\n",
    "            \"context\": selected_retriever,       # This is where you specify which retriever\n",
    "            \"question\": RunnablePassthrough()\n",
    "        }\n",
    "        | prompt\n",
    "        | model\n",
    "        | StrOutputParser()\n",
    "    )\n",
    "    return rag_chain\n"
   ]
  },
  {
   "cell_type": "code",
   "execution_count": 13,
   "metadata": {},
   "outputs": [],
   "source": [
    "import pandas as pd\n",
    "\n",
    "df = pd.read_csv(\"data/Ragas/qa.csv\", delimiter=\",\")\n",
    "questions = df[\"question\"].tolist()\n",
    "ground_truth = df[\"ground_truth\"].tolist()\n",
    "\n",
    "#constructs a RAG chain by combining a retriever for fetching relevant context, a prompt template for formatting questions, \n",
    "#a language model for generating responses, and an output parser to process the model’s output. Finally, it prints the configured RAG chain"
   ]
  },
  {
   "cell_type": "code",
   "execution_count": 14,
   "metadata": {},
   "outputs": [
    {
     "data": {
      "text/plain": [
       "['AI ClearPath',\n",
       " 'Germany',\n",
       " 'Yes',\n",
       " '45%',\n",
       " 'VisionAI Labs',\n",
       " 'HealthSphere',\n",
       " 'Collaboration with TechRise University',\n",
       " '60%',\n",
       " 'No',\n",
       " 'Optimizing energy distribution for smart cities']"
      ]
     },
     "execution_count": 14,
     "metadata": {},
     "output_type": "execute_result"
    }
   ],
   "source": [
    "ground_truth\n",
    "\n",
    "#see ground truths"
   ]
  },
  {
   "cell_type": "code",
   "execution_count": 15,
   "metadata": {},
   "outputs": [
    {
     "name": "stderr",
     "output_type": "stream",
     "text": [
      "/Users/nicolocampagnoli/miniconda3/envs/ragas/lib/python3.10/site-packages/tqdm/auto.py:21: TqdmWarning: IProgress not found. Please update jupyter and ipywidgets. See https://ipywidgets.readthedocs.io/en/stable/user_install.html\n",
      "  from .autonotebook import tqdm as notebook_tqdm\n",
      "/var/folders/t5/c04zc7dn6g5bd523j9fhp2040000gn/T/ipykernel_34124/1351262405.py:14: LangChainDeprecationWarning: The method `BaseRetriever.get_relevant_documents` was deprecated in langchain-core 0.1.46 and will be removed in 1.0. Use :meth:`~invoke` instead.\n",
      "  documents: List[Document] = self.retriever.get_relevant_documents(query)\n"
     ]
    },
    {
     "name": "stdout",
     "output_type": "stream",
     "text": [
      "{'question': 'Which NeoSynth project in 2024 focused on improving the interpretability of AI systems in urban traffic management?', 'answer': '<think>\\nOkay, so I\\'m trying to answer this question about NeoSynth\\'s projects from 2024 that focus on improving the interpretability of AI systems. Let me go through each document one by one.\\n\\nFirst, looking at the first document: It talks about NeoSynth expanding its global presence with a 2024 partnership with VisionAI Labs. The page content mentions integrating AI into public transportation for underdeveloped regions. Hmm, but that\\'s more about collaboration than interpretability of AI systems specifically.\\n\\nThe second document is similar. It starts with two bullet points: one about launching the \"AI ClearPath\" initiative to enhance interpretability and another about renewable energy optimization. So here, it explicitly mentions AI ClearPath, which seems to focus on improving AI in traffic systems. That\\'s a strong candidate for interpretability.\\n\\nLooking at the third document: It\\'s more about NeoSynth\\'s projects and their outputs like reports and whitepapers. They mention 2024 Ethics report highlighting AI ClearPath in reducing accidents. This again reinforces the idea of interpretability since it\\'s linked to reducing issues or improving safety.\\n\\nThe fourth document is a bit different because it talks about partnering with TechRise University for ethical frameworks on autonomous vehicles. While it does mention ethics, not specifically about improving interpretability. So this one doesn\\'t fit as well.\\n\\nSo putting it all together: The second and third documents both discuss AI ClearPath, which directly relates to improve the interpretability of AI in traffic management. Even though the fourth document touches on ethical frameworks, it\\'s not the main project focused on interpretability.\\n</think>\\n\\nThe NeoSynth project that focused on improving the interpretability of AI systems in urban traffic management is:\\n\\n- **AI ClearPath**.\\n\\nThis initiative was discussed in two documents, where it is highlighted as enhancing the interpretability aspect through its role in reducing accidents. The third document further elaborates with a 2024 Ethics report, which ties into this focus on improving AI\\'s interpretability.', 'contexts': ['•\\tA flagship project involved launching the “AI ClearPath” initiative to enhance the interpretability of AI used in traffic systems.\\n\\t2.\\tRenewable Energy Optimization:\\n\\t•\\tNeoSynth introduced “GreenFlow,” an AI-based system that optimizes energy distribution for smart cities.', 'NeoSynth continues to expand its global presence through innovative collaborations, such as a 2024 partnership with VisionAI Labs to integrate AI in public transportation for underdeveloped regions.', 'NeoSynth frequently publishes annual reports and whitepapers summarizing its projects and partnerships. For instance:\\n\\t•\\tThe 2024 Ethics in AI Deployment report highlighted the success of AI ClearPath in reducing accidents in urban traffic.\\n\\t•\\tA Q2 2023 GreenFlow adoption report detailed the system’s deployment in various cities.', '•\\tIn 2024, NeoSynth partnered with TechRise University to design ethical frameworks for AI used in autonomous vehicles. This collaboration focused on reducing bias in decision-making algorithms to improve safety and fairness.'], 'ground_truth': 'AI ClearPath'}\n"
     ]
    }
   ],
   "source": [
    "from datasets import Dataset\n",
    "\n",
    "# Instantiate your chain once (if it depends on a strategy)\n",
    "chain_instance = rag_chain(strategy=\"dense\")\n",
    "\n",
    "data = {\"question\": [], \"answer\": [], \"contexts\": [], \"ground_truth\": ground_truth}\n",
    "\n",
    "for query in questions:\n",
    "    data[\"question\"].append(query)\n",
    "    \n",
    "    # Call invoke on the chain instance, not on the function\n",
    "    answer_result = chain_instance.invoke({\"query\": query})\n",
    "    # Use a type check to determine whether answer_result is a dict or a string\n",
    "    answer = answer_result.get(\"answer\", answer_result) if isinstance(answer_result, dict) else answer_result\n",
    "    data[\"answer\"].append(answer)\n",
    "    \n",
    "    # If your retriever is also a dictionary of runnables, select the proper one and call invoke similarly:\n",
    "    retriever_output = retriever[\"hybrid\"].invoke({\"query\": query})\n",
    "    docs = retriever_output.get(\"documents\", [])\n",
    "    data[\"contexts\"].append([doc.page_content for doc in docs])\n",
    "\n",
    "# Create the Dataset from the dictionary\n",
    "dataset = Dataset.from_dict(data)\n",
    "\n",
    "# Extract the first entry\n",
    "first_entry = {\n",
    "    \"question\": data[\"question\"][0],\n",
    "    \"answer\": data[\"answer\"][0],\n",
    "    \"contexts\": data[\"contexts\"][0],\n",
    "    \"ground_truth\": data[\"ground_truth\"][0],\n",
    "}\n",
    "print(first_entry)"
   ]
  },
  {
   "cell_type": "code",
   "execution_count": 16,
   "metadata": {},
   "outputs": [
    {
     "name": "stdout",
     "output_type": "stream",
     "text": [
      "<think>\n",
      "Okay, so I'm trying to answer this question about NeoSynth's projects from 2024 that focus on improving the interpretability of AI systems. Let me go through each document one by one.\n",
      "\n",
      "First, looking at the first document: It talks about NeoSynth expanding its global presence with a 2024 partnership with VisionAI Labs. The page content mentions integrating AI into public transportation for underdeveloped regions. Hmm, but that's more about collaboration than interpretability of AI systems specifically.\n",
      "\n",
      "The second document is similar. It starts with two bullet points: one about launching the \"AI ClearPath\" initiative to enhance interpretability and another about renewable energy optimization. So here, it explicitly mentions AI ClearPath, which seems to focus on improving AI in traffic systems. That's a strong candidate for interpretability.\n",
      "\n",
      "Looking at the third document: It's more about NeoSynth's projects and their outputs like reports and whitepapers. They mention 2024 Ethics report highlighting AI ClearPath in reducing accidents. This again reinforces the idea of interpretability since it's linked to reducing issues or improving safety.\n",
      "\n",
      "The fourth document is a bit different because it talks about partnering with TechRise University for ethical frameworks on autonomous vehicles. While it does mention ethics, not specifically about improving interpretability. So this one doesn't fit as well.\n",
      "\n",
      "So putting it all together: The second and third documents both discuss AI ClearPath, which directly relates to improve the interpretability of AI in traffic management. Even though the fourth document touches on ethical frameworks, it's not the main project focused on interpretability.\n",
      "</think>\n",
      "\n",
      "The NeoSynth project that focused on improving the interpretability of AI systems in urban traffic management is:\n",
      "\n",
      "- **AI ClearPath**.\n",
      "\n",
      "This initiative was discussed in two documents, where it is highlighted as enhancing the interpretability aspect through its role in reducing accidents. The third document further elaborates with a 2024 Ethics report, which ties into this focus on improving AI's interpretability.\n"
     ]
    }
   ],
   "source": [
    "print(data['answer'][0])"
   ]
  },
  {
   "cell_type": "code",
   "execution_count": 17,
   "metadata": {},
   "outputs": [
    {
     "name": "stdout",
     "output_type": "stream",
     "text": [
      "\n",
      "Cleaned answer:\n",
      "The NeoSynth project that focused on improving the interpretability of AI systems in urban traffic management is:\n",
      "\n",
      "- **AI ClearPath**.\n",
      "\n",
      "This initiative was discussed in two documents, where it is highlighted as enhancing the interpretability aspect through its role in reducing accidents. The third document further elaborates with a 2024 Ethics report, which ties into this focus on improving AI's interpretability.\n"
     ]
    }
   ],
   "source": [
    "from datasets import Dataset\n",
    "import pandas as pd\n",
    "import re\n",
    "\n",
    "def clean_thinks(dataset: Dataset) -> Dataset:\n",
    "    df = pd.DataFrame(dataset)\n",
    "    \n",
    "    # Simple pattern to match exactly between <think> tags\n",
    "    pattern = r'<think>.*?</think>'\n",
    "    \n",
    "    # Clean answers\n",
    "    df['answer'] = df['answer'].apply(lambda x: re.sub(pattern, '', x, flags=re.DOTALL).strip())\n",
    "    \n",
    "    # Print example for verification\n",
    "    print(f\"\\nCleaned answer:\\n{df['answer'].iloc[0]}\")\n",
    "    \n",
    "    return Dataset.from_pandas(df)\n",
    "\n",
    "# Usage\n",
    "cleaned_dataset = clean_thinks(dataset)"
   ]
  },
  {
   "cell_type": "code",
   "execution_count": 24,
   "metadata": {},
   "outputs": [
    {
     "name": "stdout",
     "output_type": "stream",
     "text": [
      "The NeoSynth project that focused on improving the interpretability of AI systems in urban traffic management is:\n",
      "\n",
      "- **AI ClearPath**.\n",
      "\n",
      "This initiative was discussed in two documents, where it is highlighted as enhancing the interpretability aspect through its role in reducing accidents. The third document further elaborates with a 2024 Ethics report, which ties into this focus on improving AI's interpretability.\n"
     ]
    }
   ],
   "source": [
    "print(cleaned_dataset['answer'][0])"
   ]
  },
  {
   "cell_type": "code",
   "execution_count": 18,
   "metadata": {},
   "outputs": [
    {
     "name": "stderr",
     "output_type": "stream",
     "text": [
      "/Users/nicolocampagnoli/miniconda3/envs/ragas/lib/python3.10/site-packages/ragas/metrics/__init__.py:1: LangChainDeprecationWarning: As of langchain-core 0.3.0, LangChain uses pydantic v2 internally. The langchain_core.pydantic_v1 module was a compatibility shim for pydantic v1, and should no longer be used. Please update the code to import from Pydantic directly.\n",
      "\n",
      "For example, replace imports like: `from langchain_core.pydantic_v1 import BaseModel`\n",
      "with: `from pydantic import BaseModel`\n",
      "or the v1 compatibility namespace if you are working in a code base that has not been fully upgraded to pydantic 2 yet. \tfrom pydantic.v1 import BaseModel\n",
      "\n",
      "  from ragas.metrics._answer_correctness import AnswerCorrectness, answer_correctness\n",
      "/Users/nicolocampagnoli/miniconda3/envs/ragas/lib/python3.10/site-packages/ragas/metrics/__init__.py:4: LangChainDeprecationWarning: As of langchain-core 0.3.0, LangChain uses pydantic v2 internally. The langchain.pydantic_v1 module was a compatibility shim for pydantic v1, and should no longer be used. Please update the code to import from Pydantic directly.\n",
      "\n",
      "For example, replace imports like: `from langchain.pydantic_v1 import BaseModel`\n",
      "with: `from pydantic import BaseModel`\n",
      "or the v1 compatibility namespace if you are working in a code base that has not been fully upgraded to pydantic 2 yet. \tfrom pydantic.v1 import BaseModel\n",
      "\n",
      "  from ragas.metrics._context_entities_recall import (\n",
      "Evaluating: 100%|██████████| 40/40 [00:23<00:00,  1.69it/s]\n"
     ]
    }
   ],
   "source": [
    "from ragas import evaluate\n",
    "from ragas.llms import LangchainLLMWrapper\n",
    "\n",
    "your_evaluator_llm = LangchainLLMWrapper(ChatOpenAI(model=\"gpt-4o-mini\"))\n",
    "#your_evaluator_llm = LangchainLLMWrapper(model)\n",
    "\n",
    "from ragas.metrics import (\n",
    "    faithfulness,\n",
    "    answer_relevancy,\n",
    "    context_recall,\n",
    "    context_precision,\n",
    ")\n",
    "\n",
    "result = evaluate(\n",
    "    dataset=cleaned_dataset,\n",
    "    metrics=[\n",
    "        context_precision,\n",
    "        context_recall,\n",
    "        faithfulness,\n",
    "        answer_relevancy,\n",
    "    ],\n",
    "    llm=your_evaluator_llm\n",
    ")\n",
    "\n",
    "#sets up an evaluator with the specified language model, and evaluates the dataset using a\n",
    "#set of metrics including context precision, context recall, faithfulness, and answer relevancy"
   ]
  },
  {
   "cell_type": "code",
   "execution_count": 19,
   "metadata": {},
   "outputs": [
    {
     "data": {
      "text/html": [
       "<div>\n",
       "<style scoped>\n",
       "    .dataframe tbody tr th:only-of-type {\n",
       "        vertical-align: middle;\n",
       "    }\n",
       "\n",
       "    .dataframe tbody tr th {\n",
       "        vertical-align: top;\n",
       "    }\n",
       "\n",
       "    .dataframe thead th {\n",
       "        text-align: right;\n",
       "    }\n",
       "</style>\n",
       "<table border=\"1\" class=\"dataframe\">\n",
       "  <thead>\n",
       "    <tr style=\"text-align: right;\">\n",
       "      <th></th>\n",
       "      <th>question</th>\n",
       "      <th>answer</th>\n",
       "      <th>contexts</th>\n",
       "      <th>ground_truth</th>\n",
       "      <th>context_precision</th>\n",
       "      <th>context_recall</th>\n",
       "      <th>faithfulness</th>\n",
       "      <th>answer_relevancy</th>\n",
       "    </tr>\n",
       "  </thead>\n",
       "  <tbody>\n",
       "    <tr>\n",
       "      <th>0</th>\n",
       "      <td>Which NeoSynth project in 2024 focused on impr...</td>\n",
       "      <td>The NeoSynth project that focused on improving...</td>\n",
       "      <td>[•\\tA flagship project involved launching the ...</td>\n",
       "      <td>AI ClearPath</td>\n",
       "      <td>0.833333</td>\n",
       "      <td>1.0</td>\n",
       "      <td>0.666667</td>\n",
       "      <td>0.985005</td>\n",
       "    </tr>\n",
       "    <tr>\n",
       "      <th>1</th>\n",
       "      <td>In 2023, did NeoSynth's GreenFlow platform ach...</td>\n",
       "      <td>Yes, according to the provided documents, in 2...</td>\n",
       "      <td>[•\\tIn 2023, GreenFlow was adopted in Germany ...</td>\n",
       "      <td>Germany</td>\n",
       "      <td>1.000000</td>\n",
       "      <td>1.0</td>\n",
       "      <td>0.800000</td>\n",
       "      <td>0.898781</td>\n",
       "    </tr>\n",
       "    <tr>\n",
       "      <th>2</th>\n",
       "      <td>Did NeoSynth announce its partnership with Gre...</td>\n",
       "      <td>Yes, NeoSynth announced a partnership with Gre...</td>\n",
       "      <td>[•\\tPrior to this, in June 2023, NeoSynth anno...</td>\n",
       "      <td>Yes</td>\n",
       "      <td>1.000000</td>\n",
       "      <td>1.0</td>\n",
       "      <td>1.000000</td>\n",
       "      <td>0.998123</td>\n",
       "    </tr>\n",
       "    <tr>\n",
       "      <th>3</th>\n",
       "      <td>What percentage of cities in the United States...</td>\n",
       "      <td>The percentage of cities in the United States ...</td>\n",
       "      <td>[•\\tIn 2023, GreenFlow was adopted in Germany ...</td>\n",
       "      <td>45%</td>\n",
       "      <td>1.000000</td>\n",
       "      <td>1.0</td>\n",
       "      <td>0.333333</td>\n",
       "      <td>0.993890</td>\n",
       "    </tr>\n",
       "    <tr>\n",
       "      <th>4</th>\n",
       "      <td>Which company partnered with NeoSynth in 2024 ...</td>\n",
       "      <td>NeoSynth partnered with **VisionAI Labs** and ...</td>\n",
       "      <td>[NeoSynth continues to expand its global prese...</td>\n",
       "      <td>VisionAI Labs</td>\n",
       "      <td>1.000000</td>\n",
       "      <td>1.0</td>\n",
       "      <td>0.600000</td>\n",
       "      <td>0.969653</td>\n",
       "    </tr>\n",
       "    <tr>\n",
       "      <th>5</th>\n",
       "      <td>What is the name of NeoSynth’s platform for pe...</td>\n",
       "      <td>The name of NeoSynth’s platform for personaliz...</td>\n",
       "      <td>[•\\tIn 2023, GreenFlow was adopted in Germany ...</td>\n",
       "      <td>HealthSphere</td>\n",
       "      <td>1.000000</td>\n",
       "      <td>1.0</td>\n",
       "      <td>1.000000</td>\n",
       "      <td>0.998862</td>\n",
       "    </tr>\n",
       "    <tr>\n",
       "      <th>6</th>\n",
       "      <td>Which NeoSynth initiative in 2024 focused on r...</td>\n",
       "      <td>The correct answer is:\\n\\n**Which NeoSynth ini...</td>\n",
       "      <td>[•\\tIn 2024, NeoSynth partnered with TechRise ...</td>\n",
       "      <td>Collaboration with TechRise University</td>\n",
       "      <td>1.000000</td>\n",
       "      <td>1.0</td>\n",
       "      <td>0.500000</td>\n",
       "      <td>0.977093</td>\n",
       "    </tr>\n",
       "    <tr>\n",
       "      <th>7</th>\n",
       "      <td>What percentage of cities in Germany adopted G...</td>\n",
       "      <td>The first document explicitly states that in 2...</td>\n",
       "      <td>[•\\tIn 2023, GreenFlow was adopted in Germany ...</td>\n",
       "      <td>60%</td>\n",
       "      <td>1.000000</td>\n",
       "      <td>1.0</td>\n",
       "      <td>0.500000</td>\n",
       "      <td>1.000000</td>\n",
       "    </tr>\n",
       "    <tr>\n",
       "      <th>8</th>\n",
       "      <td>Does NeoSynth operate in the deep-sea explorat...</td>\n",
       "      <td>Based on the provided context, NeoSynth does n...</td>\n",
       "      <td>[NeoSynth frequently publishes annual reports ...</td>\n",
       "      <td>No</td>\n",
       "      <td>0.000000</td>\n",
       "      <td>1.0</td>\n",
       "      <td>1.000000</td>\n",
       "      <td>0.000000</td>\n",
       "    </tr>\n",
       "    <tr>\n",
       "      <th>9</th>\n",
       "      <td>What is the primary focus of the GreenFlow pla...</td>\n",
       "      <td>The primary focus of the GreenFlow platform is...</td>\n",
       "      <td>[•\\tIn 2023, GreenFlow was adopted in Germany ...</td>\n",
       "      <td>Optimizing energy distribution for smart cities</td>\n",
       "      <td>0.333333</td>\n",
       "      <td>1.0</td>\n",
       "      <td>0.000000</td>\n",
       "      <td>1.000000</td>\n",
       "    </tr>\n",
       "  </tbody>\n",
       "</table>\n",
       "</div>"
      ],
      "text/plain": [
       "                                            question  \\\n",
       "0  Which NeoSynth project in 2024 focused on impr...   \n",
       "1  In 2023, did NeoSynth's GreenFlow platform ach...   \n",
       "2  Did NeoSynth announce its partnership with Gre...   \n",
       "3  What percentage of cities in the United States...   \n",
       "4  Which company partnered with NeoSynth in 2024 ...   \n",
       "5  What is the name of NeoSynth’s platform for pe...   \n",
       "6  Which NeoSynth initiative in 2024 focused on r...   \n",
       "7  What percentage of cities in Germany adopted G...   \n",
       "8  Does NeoSynth operate in the deep-sea explorat...   \n",
       "9  What is the primary focus of the GreenFlow pla...   \n",
       "\n",
       "                                              answer  \\\n",
       "0  The NeoSynth project that focused on improving...   \n",
       "1  Yes, according to the provided documents, in 2...   \n",
       "2  Yes, NeoSynth announced a partnership with Gre...   \n",
       "3  The percentage of cities in the United States ...   \n",
       "4  NeoSynth partnered with **VisionAI Labs** and ...   \n",
       "5  The name of NeoSynth’s platform for personaliz...   \n",
       "6  The correct answer is:\\n\\n**Which NeoSynth ini...   \n",
       "7  The first document explicitly states that in 2...   \n",
       "8  Based on the provided context, NeoSynth does n...   \n",
       "9  The primary focus of the GreenFlow platform is...   \n",
       "\n",
       "                                            contexts  \\\n",
       "0  [•\\tA flagship project involved launching the ...   \n",
       "1  [•\\tIn 2023, GreenFlow was adopted in Germany ...   \n",
       "2  [•\\tPrior to this, in June 2023, NeoSynth anno...   \n",
       "3  [•\\tIn 2023, GreenFlow was adopted in Germany ...   \n",
       "4  [NeoSynth continues to expand its global prese...   \n",
       "5  [•\\tIn 2023, GreenFlow was adopted in Germany ...   \n",
       "6  [•\\tIn 2024, NeoSynth partnered with TechRise ...   \n",
       "7  [•\\tIn 2023, GreenFlow was adopted in Germany ...   \n",
       "8  [NeoSynth frequently publishes annual reports ...   \n",
       "9  [•\\tIn 2023, GreenFlow was adopted in Germany ...   \n",
       "\n",
       "                                      ground_truth  context_precision  \\\n",
       "0                                     AI ClearPath           0.833333   \n",
       "1                                          Germany           1.000000   \n",
       "2                                              Yes           1.000000   \n",
       "3                                              45%           1.000000   \n",
       "4                                    VisionAI Labs           1.000000   \n",
       "5                                     HealthSphere           1.000000   \n",
       "6           Collaboration with TechRise University           1.000000   \n",
       "7                                              60%           1.000000   \n",
       "8                                               No           0.000000   \n",
       "9  Optimizing energy distribution for smart cities           0.333333   \n",
       "\n",
       "   context_recall  faithfulness  answer_relevancy  \n",
       "0             1.0      0.666667          0.985005  \n",
       "1             1.0      0.800000          0.898781  \n",
       "2             1.0      1.000000          0.998123  \n",
       "3             1.0      0.333333          0.993890  \n",
       "4             1.0      0.600000          0.969653  \n",
       "5             1.0      1.000000          0.998862  \n",
       "6             1.0      0.500000          0.977093  \n",
       "7             1.0      0.500000          1.000000  \n",
       "8             1.0      1.000000          0.000000  \n",
       "9             1.0      0.000000          1.000000  "
      ]
     },
     "execution_count": 19,
     "metadata": {},
     "output_type": "execute_result"
    }
   ],
   "source": [
    "result.to_pandas()\n",
    "\n",
    "#see evaluation results"
   ]
  },
  {
   "cell_type": "code",
   "execution_count": 21,
   "metadata": {},
   "outputs": [
    {
     "data": {
      "image/png": "[encoded data removed]",
      "text/plain": [
       "<Figure size 1000x800 with 2 Axes>"
      ]
     },
     "metadata": {},
     "output_type": "display_data"
    }
   ],
   "source": [
    "import seaborn as sns\n",
    "import matplotlib.pyplot as plt\n",
    "from matplotlib.colors import LinearSegmentedColormap\n",
    "\n",
    "df = result.to_pandas()\n",
    "\n",
    "heatmap_data = df[\n",
    "    [\n",
    "        \"context_precision\",\n",
    "        \"context_recall\",\n",
    "        \"faithfulness\",\n",
    "        \"answer_relevancy\",\n",
    "    ]\n",
    "]\n",
    "\n",
    "cmap = LinearSegmentedColormap.from_list(\"green_red\", [\"red\", \"green\"])\n",
    "\n",
    "plt.figure(figsize=(10, 8))\n",
    "sns.heatmap(heatmap_data, annot=True, fmt=\".2f\", linewidths=0.5, cmap=cmap)\n",
    "\n",
    "plt.yticks(ticks=range(len(df[\"question\"])), labels=df[\"question\"], rotation=0)\n",
    "\n",
    "plt.show()\n",
    "\n",
    "#visualizes the evaluation results using a heatmap to display context precision, context recall, faithfulness, and answer relevancy metrics"
   ]
  },
  {
   "cell_type": "code",
   "execution_count": 22,
   "metadata": {},
   "outputs": [
    {
     "data": {
      "text/plain": [
       "context_precision    0.816667\n",
       "context_recall       1.000000\n",
       "faithfulness         0.640000\n",
       "answer_relevancy     0.882141\n",
       "dtype: float64"
      ]
     },
     "execution_count": 22,
     "metadata": {},
     "output_type": "execute_result"
    }
   ],
   "source": [
    "df[['context_precision', 'context_recall', 'faithfulness', \"answer_relevancy\"]].mean()\n",
    "\n",
    "#see average evaluation results"
   ]
  }
 ],
 "metadata": {
  "kernelspec": {
   "display_name": "rag",
   "language": "python",
   "name": "python3"
  },
  "language_info": {
   "codemirror_mode": {
    "name": "ipython",
    "version": 3
   },
   "file_extension": ".py",
   "mimetype": "text/x-python",
   "name": "python",
   "nbconvert_exporter": "python",
   "pygments_lexer": "ipython3",
   "version": "3.10.16"
  }
 },
 "nbformat": 4,
 "nbformat_minor": 2
}
